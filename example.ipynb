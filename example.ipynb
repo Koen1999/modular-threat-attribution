{
 "cells": [
  {
   "cell_type": "code",
   "execution_count": 1,
   "id": "822be3b0-db1e-4113-acad-e5854c359220",
   "metadata": {},
   "outputs": [],
   "source": [
    "import copy\n",
    "import random\n",
    "import math\n",
    "import time\n",
    "import pickle\n",
    "import pprint\n",
    "\n",
    "import tqdm\n",
    "\n",
    "import numpy\n",
    "import pandas\n",
    "\n",
    "import sklearn\n",
    "import sklearn.metrics\n",
    "import sklearn.svm\n",
    "\n",
    "import xgboost\n",
    "\n",
    "import matplotlib\n",
    "import matplotlib.pyplot\n",
    "import seaborn"
   ]
  },
  {
   "attachments": {},
   "cell_type": "markdown",
   "id": "6e85e311-1d71-4eef-9b27-1e9d1ba6fc6b",
   "metadata": {
    "tags": []
   },
   "source": [
    "# Utility functions"
   ]
  },
  {
   "cell_type": "code",
   "execution_count": 2,
   "id": "6992db6a",
   "metadata": {},
   "outputs": [],
   "source": [
    "def equal_pdf(size):\n",
    "    return numpy.ones((size,)) / size"
   ]
  },
  {
   "cell_type": "code",
   "execution_count": 3,
   "id": "49dff043-df4c-4eae-8f4b-12759623db00",
   "metadata": {},
   "outputs": [],
   "source": [
    "def normalize_pdf(x):\n",
    "    x = x / x.sum()\n",
    "    x = numpy.nan_to_num(x, copy=True, nan=0.0, posinf=None, neginf=None)\n",
    "    if x.sum() == 0.:\n",
    "        x = equal_pdf(x.shape[0])\n",
    "    return x"
   ]
  },
  {
   "cell_type": "code",
   "execution_count": 4,
   "id": "268e8234-1bac-4e02-97a5-4864d7555f4b",
   "metadata": {},
   "outputs": [],
   "source": [
    "def get_k_accuracy_for_target(x, target):\n",
    "    x = pandas.Series(x).sort_values(ascending=False).reset_index()\n",
    "    return x[x['index']==target].index[0] + len(x[x[0]==x[x['index']==target].iloc[0][0]].index)/2"
   ]
  },
  {
   "cell_type": "code",
   "execution_count": 5,
   "id": "9462572c-ebb8-4088-aa98-dde1af854aa5",
   "metadata": {},
   "outputs": [],
   "source": [
    "def target_pdf(size, target):\n",
    "    x = numpy.zeros((size,))\n",
    "    x[target] = 1\n",
    "    return x"
   ]
  },
  {
   "attachments": {},
   "cell_type": "markdown",
   "id": "1b80f535-4cfd-4bfe-a3b9-f30085c25c4e",
   "metadata": {
    "tags": []
   },
   "source": [
    "# Opinion pools"
   ]
  },
  {
   "cell_type": "code",
   "execution_count": 6,
   "id": "fb42bfc7-8340-4970-bec5-ac35bed9e836",
   "metadata": {},
   "outputs": [],
   "source": [
    "def majority_vote(X):\n",
    "    votes = X.argmax(axis=1)\n",
    "    vote = pandas.Series(votes).value_counts().sort_index().idxmax()\n",
    "    return target_pdf(X.shape[1], vote)"
   ]
  },
  {
   "cell_type": "code",
   "execution_count": 7,
   "id": "2e15553c-38a6-4ec5-a168-a1cb1cc1276c",
   "metadata": {},
   "outputs": [],
   "source": [
    "def linear_opinion_pool(X):\n",
    "    x = X.sum(axis=0)\n",
    "    return normalize_pdf(x)"
   ]
  },
  {
   "cell_type": "code",
   "execution_count": 8,
   "id": "1c1230a1-149b-4fae-96c4-724f7d77d814",
   "metadata": {},
   "outputs": [],
   "source": [
    "def logarithmic_opinion_pool(X):\n",
    "    x = X.prod(axis=0)\n",
    "    return normalize_pdf(x)"
   ]
  },
  {
   "cell_type": "code",
   "execution_count": 9,
   "id": "6b40c619-4193-499e-9d84-f19c973cdb41",
   "metadata": {},
   "outputs": [],
   "source": [
    "def paired_opinion_pool(X, pool1, pool2):\n",
    "    Y = []\n",
    "    for i in range(X.shape[0]):\n",
    "        for j in range(i+1, X.shape[0]):\n",
    "            Y.append(pool1(numpy.array([X[i, :], X[j, :]])))\n",
    "    Y = numpy.array(Y)\n",
    "    return pool2(Y)"
   ]
  },
  {
   "cell_type": "code",
   "execution_count": 10,
   "id": "98f3e82f-d992-44ab-83aa-8edd25e66ae7",
   "metadata": {},
   "outputs": [],
   "source": [
    "class PairedOpinionPool:\n",
    "    def __init__(self, pool1, pool2):\n",
    "        self.pool1 = pool1\n",
    "        self.pool2 = pool2\n",
    "        \n",
    "    def __call__(self, X):\n",
    "        return paired_opinion_pool(X, self.pool1, self.pool2)"
   ]
  },
  {
   "cell_type": "code",
   "execution_count": 11,
   "id": "ea98bf7c-739f-43f2-8dc6-05cd0317954f",
   "metadata": {},
   "outputs": [],
   "source": [
    "logarithmic_linear_opinion_pool = PairedOpinionPool(logarithmic_opinion_pool, linear_opinion_pool)"
   ]
  },
  {
   "attachments": {},
   "cell_type": "markdown",
   "id": "1d793e75-cff2-4b07-9eaf-d16dbcf8179d",
   "metadata": {
    "tags": []
   },
   "source": [
    "# Configuration"
   ]
  },
  {
   "cell_type": "code",
   "execution_count": 12,
   "id": "a5a2673d-8f74-437b-958c-f60b2a5d5b2d",
   "metadata": {},
   "outputs": [],
   "source": [
    "# 100000\n",
    "EXPERIMENT_SIZE = 100000\n",
    "ROLLING_WINDOW_SIZE = EXPERIMENT_SIZE//10\n",
    "# 128\n",
    "ACTORS = 3\n",
    "# 8\n",
    "FEATURES = 3\n",
    "\n",
    "# 0.1\n",
    "BASE_ACTIVITY = 0.1\n",
    "BASE_STD = 1/ACTORS\n",
    "\n",
    "ACTIVITY_SHIFT_STD = 1e-2\n",
    "MEAN_SHIFT_STD = 1e-2\n",
    "STD_SHIFT_STD = 1e-2\n",
    "\n",
    "TRAIN_SIZE = 0.5\n",
    "\n",
    "PROB_FALSE_FLAG = 0.4\n",
    "\n",
    "MODELS = {\n",
    "    # 'Naive Bayes': sklearn.naive_bayes.GaussianNB(),\n",
    "    'Linear SVM': sklearn.svm.SVC(kernel='linear', probability=True),\n",
    "    # 'SVM with RBF': sklearn.svm.SVC(probability=True),\n",
    "    # 'MLP': sklearn.neural_network.MLPClassifier(early_stopping=True),\n",
    "    'XGBoost': xgboost.XGBClassifier(n_estimators=1000, n_jobs=1, objective='multi_softmax')\n",
    "}\n",
    "MODEL = MODELS['Linear SVM']\n",
    "\n",
    "FIGSIZE = (8, 4)"
   ]
  },
  {
   "cell_type": "code",
   "execution_count": 13,
   "id": "e03adfbf-83a2-4659-b0c9-896e5022736c",
   "metadata": {},
   "outputs": [],
   "source": [
    "pools = {\n",
    "    # 'Majority Vote': majority_vote, \n",
    "    'Linear Opinion Pool': linear_opinion_pool, \n",
    "    'Logarithmic Opinion Pool': logarithmic_opinion_pool,\n",
    "    'Pairing Aggregator': logarithmic_linear_opinion_pool,\n",
    "}"
   ]
  },
  {
   "attachments": {},
   "cell_type": "markdown",
   "id": "2d583518-00a4-4609-a71c-2d177594ed52",
   "metadata": {},
   "source": [
    "# Experiment"
   ]
  },
  {
   "cell_type": "code",
   "execution_count": 14,
   "id": "9cf24d69",
   "metadata": {},
   "outputs": [],
   "source": [
    "feature_names = [f'x{i}' for i in range(FEATURES)]"
   ]
  },
  {
   "cell_type": "markdown",
   "id": "6bbcf9c5",
   "metadata": {},
   "source": [
    "## Prepare dataset"
   ]
  },
  {
   "cell_type": "code",
   "execution_count": 15,
   "id": "ff0b6329",
   "metadata": {},
   "outputs": [],
   "source": [
    "columns = [\n",
    "    'Name',\n",
    "    'start',\n",
    "    'end',\n",
    "    'activity',\n",
    "]\n",
    "\n",
    "for i in range(FEATURES):\n",
    "    columns.append(f'x{i}_mean')\n",
    "    columns.append(f'x{i}_std')\n",
    "\n",
    "df_actors = pandas.DataFrame(columns=columns)\n",
    "\n",
    "for i in range(ACTORS):\n",
    "    start = random.uniform(0, EXPERIMENT_SIZE * (TRAIN_SIZE - 0.1))\n",
    "    end = random.uniform(EXPERIMENT_SIZE * (TRAIN_SIZE + 0.1), EXPERIMENT_SIZE)\n",
    "\n",
    "    values = [\n",
    "        'APT'+str(i),\n",
    "        start,\n",
    "        end,\n",
    "        random.uniform(0.0001, BASE_ACTIVITY),\n",
    "    ]\n",
    "    for _ in range(FEATURES):\n",
    "        values.append(random.uniform(-1, 1))\n",
    "        values.append(random.uniform(0, BASE_STD))\n",
    "\n",
    "    df_actors.loc[i] = pandas.Series(\n",
    "        values,\n",
    "        index=df_actors.columns,\n",
    "        name=i,\n",
    "    )\n"
   ]
  },
  {
   "cell_type": "code",
   "execution_count": 16,
   "id": "2f72d1ac",
   "metadata": {},
   "outputs": [
    {
     "data": {
      "text/html": [
       "<div>\n",
       "<style scoped>\n",
       "    .dataframe tbody tr th:only-of-type {\n",
       "        vertical-align: middle;\n",
       "    }\n",
       "\n",
       "    .dataframe tbody tr th {\n",
       "        vertical-align: top;\n",
       "    }\n",
       "\n",
       "    .dataframe thead th {\n",
       "        text-align: right;\n",
       "    }\n",
       "</style>\n",
       "<table border=\"1\" class=\"dataframe\">\n",
       "  <thead>\n",
       "    <tr style=\"text-align: right;\">\n",
       "      <th></th>\n",
       "      <th>Name</th>\n",
       "      <th>start</th>\n",
       "      <th>end</th>\n",
       "      <th>activity</th>\n",
       "      <th>x0_mean</th>\n",
       "      <th>x0_std</th>\n",
       "      <th>x1_mean</th>\n",
       "      <th>x1_std</th>\n",
       "      <th>x2_mean</th>\n",
       "      <th>x2_std</th>\n",
       "    </tr>\n",
       "  </thead>\n",
       "  <tbody>\n",
       "    <tr>\n",
       "      <th>0</th>\n",
       "      <td>APT0</td>\n",
       "      <td>34400.027497</td>\n",
       "      <td>99232.401041</td>\n",
       "      <td>0.05293</td>\n",
       "      <td>0.616601</td>\n",
       "      <td>0.127307</td>\n",
       "      <td>-0.995215</td>\n",
       "      <td>0.307068</td>\n",
       "      <td>-0.218063</td>\n",
       "      <td>0.045395</td>\n",
       "    </tr>\n",
       "    <tr>\n",
       "      <th>1</th>\n",
       "      <td>APT1</td>\n",
       "      <td>9243.730191</td>\n",
       "      <td>87094.169063</td>\n",
       "      <td>0.083828</td>\n",
       "      <td>0.518659</td>\n",
       "      <td>0.290513</td>\n",
       "      <td>-0.226985</td>\n",
       "      <td>0.270489</td>\n",
       "      <td>0.22577</td>\n",
       "      <td>0.209123</td>\n",
       "    </tr>\n",
       "    <tr>\n",
       "      <th>2</th>\n",
       "      <td>APT2</td>\n",
       "      <td>35951.65766</td>\n",
       "      <td>81759.618103</td>\n",
       "      <td>0.053876</td>\n",
       "      <td>-0.12686</td>\n",
       "      <td>0.132722</td>\n",
       "      <td>-0.277634</td>\n",
       "      <td>0.267092</td>\n",
       "      <td>0.705371</td>\n",
       "      <td>0.114815</td>\n",
       "    </tr>\n",
       "  </tbody>\n",
       "</table>\n",
       "</div>"
      ],
      "text/plain": [
       "   Name         start           end  activity   x0_mean    x0_std   x1_mean  \\\n",
       "0  APT0  34400.027497  99232.401041   0.05293  0.616601  0.127307 -0.995215   \n",
       "1  APT1   9243.730191  87094.169063  0.083828  0.518659  0.290513 -0.226985   \n",
       "2  APT2   35951.65766  81759.618103  0.053876  -0.12686  0.132722 -0.277634   \n",
       "\n",
       "     x1_std   x2_mean    x2_std  \n",
       "0  0.307068 -0.218063  0.045395  \n",
       "1  0.270489   0.22577  0.209123  \n",
       "2  0.267092  0.705371  0.114815  "
      ]
     },
     "execution_count": 16,
     "metadata": {},
     "output_type": "execute_result"
    }
   ],
   "source": [
    "df_actors"
   ]
  },
  {
   "cell_type": "code",
   "execution_count": 17,
   "id": "d32a0d43",
   "metadata": {},
   "outputs": [
    {
     "name": "stderr",
     "output_type": "stream",
     "text": [
      "  0%|          | 154/100000 [00:00<01:04, 1536.37it/s]"
     ]
    },
    {
     "name": "stderr",
     "output_type": "stream",
     "text": [
      "100%|██████████| 100000/100000 [01:46<00:00, 939.89it/s]\n"
     ]
    },
    {
     "data": {
      "text/plain": [
       "0"
      ]
     },
     "execution_count": 17,
     "metadata": {},
     "output_type": "execute_result"
    }
   ],
   "source": [
    "columns = [\n",
    "    'Name',\n",
    "    'Timestep',\n",
    "] + feature_names\n",
    "\n",
    "df_incidents = pandas.DataFrame(columns=columns)\n",
    "\n",
    "incident_i = 0\n",
    "for i in tqdm.tqdm(range(EXPERIMENT_SIZE)):\n",
    "    for j in range(ACTORS):\n",
    "        if df_actors.iloc[j]['start'] <= i and df_actors.iloc[j]['end'] >= i and random.uniform(0, 1) < df_actors.iloc[j]['activity']:\n",
    "            feature_values = [\n",
    "                random.normalvariate(\n",
    "                    df_actors.iloc[j][f'x{k}_mean'], df_actors.iloc[j][f'x{k}_std']\n",
    "                )\n",
    "                for k in range(FEATURES)\n",
    "            ]\n",
    "\n",
    "            # If generating test data already, introduce false flags corresponding to a sample from another actor present in the training data\n",
    "            if i > EXPERIMENT_SIZE * TRAIN_SIZE:\n",
    "                # if len(df_incidents[(df_incidents['Name'] != df_actors.iloc[j]['Name'])].index) > 0:\n",
    "                blamed_actor = df_incidents[\n",
    "                    (df_incidents['Name'] != df_actors.iloc[j]['Name'])\n",
    "                    & (df_incidents['Timestep'] < EXPERIMENT_SIZE * TRAIN_SIZE)\n",
    "                ]['Name'].sample(1).iloc[0]\n",
    "                for k in range(FEATURES):\n",
    "                    if random.uniform(0, 1) < PROB_FALSE_FLAG:\n",
    "                        feature_values[k] = df_incidents[\n",
    "                            (df_incidents['Name'] == blamed_actor)\n",
    "                            & (df_incidents['Timestep'] < EXPERIMENT_SIZE * TRAIN_SIZE)\n",
    "                        ][f'x{k}'].sample(1).iloc[0]\n",
    "\n",
    "            values = [\n",
    "                df_actors.iloc[j]['Name'],\n",
    "                i,\n",
    "            ] + feature_values\n",
    "\n",
    "            series_index = str(i)+str(',')+str(j)\n",
    "\n",
    "            df_incidents.loc[series_index] = pandas.Series(\n",
    "                values,\n",
    "                index=df_incidents.columns,\n",
    "                name=series_index,\n",
    "            )\n",
    "            incident_i += 1\n",
    "\n",
    "    for k in range(FEATURES):\n",
    "        df_actors.loc[j, 'activity'] = min(\n",
    "            max(\n",
    "                df_actors.loc[j, 'activity'] +\n",
    "                random.normalvariate(0, ACTIVITY_SHIFT_STD),\n",
    "                0\n",
    "            ),\n",
    "            BASE_ACTIVITY\n",
    "        )\n",
    "\n",
    "        df_actors.loc[j, f'x{k}_mean'] = min(\n",
    "            max(\n",
    "                df_actors.loc[j, f'x{k}_mean'] +\n",
    "                random.normalvariate(0, MEAN_SHIFT_STD),\n",
    "                -1\n",
    "            ),\n",
    "            1\n",
    "        )\n",
    "\n",
    "        df_actors.loc[j, f'x{k}_std'] = min(\n",
    "            max(\n",
    "                df_actors.loc[j, f'x{k}_std'] +\n",
    "                random.normalvariate(0, STD_SHIFT_STD),\n",
    "                0\n",
    "            ),\n",
    "            BASE_STD\n",
    "        )\n",
    "\n",
    "    if i % 1000 == 0:\n",
    "        df_incidents = df_incidents.copy()\n",
    "0"
   ]
  },
  {
   "cell_type": "code",
   "execution_count": 18,
   "id": "84fa3422",
   "metadata": {},
   "outputs": [
    {
     "data": {
      "text/html": [
       "<div>\n",
       "<style scoped>\n",
       "    .dataframe tbody tr th:only-of-type {\n",
       "        vertical-align: middle;\n",
       "    }\n",
       "\n",
       "    .dataframe tbody tr th {\n",
       "        vertical-align: top;\n",
       "    }\n",
       "\n",
       "    .dataframe thead th {\n",
       "        text-align: right;\n",
       "    }\n",
       "</style>\n",
       "<table border=\"1\" class=\"dataframe\">\n",
       "  <thead>\n",
       "    <tr style=\"text-align: right;\">\n",
       "      <th></th>\n",
       "      <th>Name</th>\n",
       "      <th>start</th>\n",
       "      <th>end</th>\n",
       "      <th>activity</th>\n",
       "      <th>x0_mean</th>\n",
       "      <th>x0_std</th>\n",
       "      <th>x1_mean</th>\n",
       "      <th>x1_std</th>\n",
       "      <th>x2_mean</th>\n",
       "      <th>x2_std</th>\n",
       "    </tr>\n",
       "  </thead>\n",
       "  <tbody>\n",
       "    <tr>\n",
       "      <th>0</th>\n",
       "      <td>APT0</td>\n",
       "      <td>34400.027497</td>\n",
       "      <td>99232.401041</td>\n",
       "      <td>0.05293</td>\n",
       "      <td>0.616601</td>\n",
       "      <td>0.127307</td>\n",
       "      <td>-0.995215</td>\n",
       "      <td>0.307068</td>\n",
       "      <td>-0.218063</td>\n",
       "      <td>0.045395</td>\n",
       "    </tr>\n",
       "    <tr>\n",
       "      <th>1</th>\n",
       "      <td>APT1</td>\n",
       "      <td>9243.730191</td>\n",
       "      <td>87094.169063</td>\n",
       "      <td>0.083828</td>\n",
       "      <td>0.518659</td>\n",
       "      <td>0.290513</td>\n",
       "      <td>-0.226985</td>\n",
       "      <td>0.270489</td>\n",
       "      <td>0.22577</td>\n",
       "      <td>0.209123</td>\n",
       "    </tr>\n",
       "    <tr>\n",
       "      <th>2</th>\n",
       "      <td>APT2</td>\n",
       "      <td>35951.65766</td>\n",
       "      <td>81759.618103</td>\n",
       "      <td>0.023797</td>\n",
       "      <td>-0.759649</td>\n",
       "      <td>0.282624</td>\n",
       "      <td>0.62864</td>\n",
       "      <td>0.00722</td>\n",
       "      <td>0.049739</td>\n",
       "      <td>0.215013</td>\n",
       "    </tr>\n",
       "  </tbody>\n",
       "</table>\n",
       "</div>"
      ],
      "text/plain": [
       "   Name         start           end  activity   x0_mean    x0_std   x1_mean  \\\n",
       "0  APT0  34400.027497  99232.401041   0.05293  0.616601  0.127307 -0.995215   \n",
       "1  APT1   9243.730191  87094.169063  0.083828  0.518659  0.290513 -0.226985   \n",
       "2  APT2   35951.65766  81759.618103  0.023797 -0.759649  0.282624   0.62864   \n",
       "\n",
       "     x1_std   x2_mean    x2_std  \n",
       "0  0.307068 -0.218063  0.045395  \n",
       "1  0.270489   0.22577  0.209123  \n",
       "2   0.00722  0.049739  0.215013  "
      ]
     },
     "execution_count": 18,
     "metadata": {},
     "output_type": "execute_result"
    }
   ],
   "source": [
    "df_actors"
   ]
  },
  {
   "cell_type": "code",
   "execution_count": 19,
   "id": "801943bf",
   "metadata": {},
   "outputs": [
    {
     "data": {
      "text/html": [
       "<div>\n",
       "<style scoped>\n",
       "    .dataframe tbody tr th:only-of-type {\n",
       "        vertical-align: middle;\n",
       "    }\n",
       "\n",
       "    .dataframe tbody tr th {\n",
       "        vertical-align: top;\n",
       "    }\n",
       "\n",
       "    .dataframe thead th {\n",
       "        text-align: right;\n",
       "    }\n",
       "</style>\n",
       "<table border=\"1\" class=\"dataframe\">\n",
       "  <thead>\n",
       "    <tr style=\"text-align: right;\">\n",
       "      <th></th>\n",
       "      <th>Name</th>\n",
       "      <th>Timestep</th>\n",
       "      <th>x0</th>\n",
       "      <th>x1</th>\n",
       "      <th>x2</th>\n",
       "    </tr>\n",
       "  </thead>\n",
       "  <tbody>\n",
       "    <tr>\n",
       "      <th>9276,1</th>\n",
       "      <td>APT1</td>\n",
       "      <td>9276</td>\n",
       "      <td>0.514415</td>\n",
       "      <td>-0.356119</td>\n",
       "      <td>0.147344</td>\n",
       "    </tr>\n",
       "    <tr>\n",
       "      <th>9289,1</th>\n",
       "      <td>APT1</td>\n",
       "      <td>9289</td>\n",
       "      <td>-0.044279</td>\n",
       "      <td>0.030412</td>\n",
       "      <td>-0.322912</td>\n",
       "    </tr>\n",
       "    <tr>\n",
       "      <th>9295,1</th>\n",
       "      <td>APT1</td>\n",
       "      <td>9295</td>\n",
       "      <td>0.227149</td>\n",
       "      <td>-0.138956</td>\n",
       "      <td>0.374034</td>\n",
       "    </tr>\n",
       "    <tr>\n",
       "      <th>9305,1</th>\n",
       "      <td>APT1</td>\n",
       "      <td>9305</td>\n",
       "      <td>0.712255</td>\n",
       "      <td>-0.330702</td>\n",
       "      <td>0.5178</td>\n",
       "    </tr>\n",
       "    <tr>\n",
       "      <th>9316,1</th>\n",
       "      <td>APT1</td>\n",
       "      <td>9316</td>\n",
       "      <td>0.916359</td>\n",
       "      <td>-0.319975</td>\n",
       "      <td>0.294306</td>\n",
       "    </tr>\n",
       "    <tr>\n",
       "      <th>...</th>\n",
       "      <td>...</td>\n",
       "      <td>...</td>\n",
       "      <td>...</td>\n",
       "      <td>...</td>\n",
       "      <td>...</td>\n",
       "    </tr>\n",
       "    <tr>\n",
       "      <th>99174,0</th>\n",
       "      <td>APT0</td>\n",
       "      <td>99174</td>\n",
       "      <td>0.81886</td>\n",
       "      <td>-1.37145</td>\n",
       "      <td>-0.165163</td>\n",
       "    </tr>\n",
       "    <tr>\n",
       "      <th>99186,0</th>\n",
       "      <td>APT0</td>\n",
       "      <td>99186</td>\n",
       "      <td>0.759486</td>\n",
       "      <td>-0.996092</td>\n",
       "      <td>-0.250518</td>\n",
       "    </tr>\n",
       "    <tr>\n",
       "      <th>99192,0</th>\n",
       "      <td>APT0</td>\n",
       "      <td>99192</td>\n",
       "      <td>0.792642</td>\n",
       "      <td>-0.182136</td>\n",
       "      <td>-0.140075</td>\n",
       "    </tr>\n",
       "    <tr>\n",
       "      <th>99194,0</th>\n",
       "      <td>APT0</td>\n",
       "      <td>99194</td>\n",
       "      <td>0.130803</td>\n",
       "      <td>-0.193301</td>\n",
       "      <td>-0.193747</td>\n",
       "    </tr>\n",
       "    <tr>\n",
       "      <th>99232,0</th>\n",
       "      <td>APT0</td>\n",
       "      <td>99232</td>\n",
       "      <td>0.49011</td>\n",
       "      <td>-0.418478</td>\n",
       "      <td>-0.281538</td>\n",
       "    </tr>\n",
       "  </tbody>\n",
       "</table>\n",
       "<p>12418 rows × 5 columns</p>\n",
       "</div>"
      ],
      "text/plain": [
       "         Name Timestep        x0        x1        x2\n",
       "9276,1   APT1     9276  0.514415 -0.356119  0.147344\n",
       "9289,1   APT1     9289 -0.044279  0.030412 -0.322912\n",
       "9295,1   APT1     9295  0.227149 -0.138956  0.374034\n",
       "9305,1   APT1     9305  0.712255 -0.330702    0.5178\n",
       "9316,1   APT1     9316  0.916359 -0.319975  0.294306\n",
       "...       ...      ...       ...       ...       ...\n",
       "99174,0  APT0    99174   0.81886  -1.37145 -0.165163\n",
       "99186,0  APT0    99186  0.759486 -0.996092 -0.250518\n",
       "99192,0  APT0    99192  0.792642 -0.182136 -0.140075\n",
       "99194,0  APT0    99194  0.130803 -0.193301 -0.193747\n",
       "99232,0  APT0    99232   0.49011 -0.418478 -0.281538\n",
       "\n",
       "[12418 rows x 5 columns]"
      ]
     },
     "execution_count": 19,
     "metadata": {},
     "output_type": "execute_result"
    }
   ],
   "source": [
    "df_incidents"
   ]
  },
  {
   "cell_type": "markdown",
   "id": "e5fa5eb8",
   "metadata": {},
   "source": [
    "# Describe dataset"
   ]
  },
  {
   "cell_type": "code",
   "execution_count": 20,
   "id": "a1fbb2fb",
   "metadata": {},
   "outputs": [
    {
     "data": {
      "text/html": [
       "<div>\n",
       "<style scoped>\n",
       "    .dataframe tbody tr th:only-of-type {\n",
       "        vertical-align: middle;\n",
       "    }\n",
       "\n",
       "    .dataframe tbody tr th {\n",
       "        vertical-align: top;\n",
       "    }\n",
       "\n",
       "    .dataframe thead th {\n",
       "        text-align: right;\n",
       "    }\n",
       "</style>\n",
       "<table border=\"1\" class=\"dataframe\">\n",
       "  <thead>\n",
       "    <tr style=\"text-align: right;\">\n",
       "      <th></th>\n",
       "      <th>Name</th>\n",
       "      <th>Timestep</th>\n",
       "      <th>x0</th>\n",
       "      <th>x1</th>\n",
       "      <th>x2</th>\n",
       "    </tr>\n",
       "  </thead>\n",
       "  <tbody>\n",
       "    <tr>\n",
       "      <th>count</th>\n",
       "      <td>12418</td>\n",
       "      <td>12418</td>\n",
       "      <td>12418.00000</td>\n",
       "      <td>12418.000000</td>\n",
       "      <td>12418.000000</td>\n",
       "    </tr>\n",
       "    <tr>\n",
       "      <th>unique</th>\n",
       "      <td>3</td>\n",
       "      <td>11902</td>\n",
       "      <td>9432.00000</td>\n",
       "      <td>9467.000000</td>\n",
       "      <td>9397.000000</td>\n",
       "    </tr>\n",
       "    <tr>\n",
       "      <th>top</th>\n",
       "      <td>APT1</td>\n",
       "      <td>66773</td>\n",
       "      <td>0.60363</td>\n",
       "      <td>-0.822319</td>\n",
       "      <td>-0.257797</td>\n",
       "    </tr>\n",
       "    <tr>\n",
       "      <th>freq</th>\n",
       "      <td>6585</td>\n",
       "      <td>3</td>\n",
       "      <td>6.00000</td>\n",
       "      <td>7.000000</td>\n",
       "      <td>6.000000</td>\n",
       "    </tr>\n",
       "  </tbody>\n",
       "</table>\n",
       "</div>"
      ],
      "text/plain": [
       "         Name  Timestep           x0            x1            x2\n",
       "count   12418     12418  12418.00000  12418.000000  12418.000000\n",
       "unique      3     11902   9432.00000   9467.000000   9397.000000\n",
       "top      APT1     66773      0.60363     -0.822319     -0.257797\n",
       "freq     6585         3      6.00000      7.000000      6.000000"
      ]
     },
     "execution_count": 20,
     "metadata": {},
     "output_type": "execute_result"
    }
   ],
   "source": [
    "df_incidents.describe()"
   ]
  },
  {
   "cell_type": "code",
   "execution_count": 21,
   "id": "3084bf2c",
   "metadata": {},
   "outputs": [
    {
     "data": {
      "text/html": [
       "<div>\n",
       "<style scoped>\n",
       "    .dataframe tbody tr th:only-of-type {\n",
       "        vertical-align: middle;\n",
       "    }\n",
       "\n",
       "    .dataframe tbody tr th {\n",
       "        vertical-align: top;\n",
       "    }\n",
       "\n",
       "    .dataframe thead th {\n",
       "        text-align: right;\n",
       "    }\n",
       "</style>\n",
       "<table border=\"1\" class=\"dataframe\">\n",
       "  <thead>\n",
       "    <tr style=\"text-align: right;\">\n",
       "      <th></th>\n",
       "      <th>Timestep</th>\n",
       "      <th>x0</th>\n",
       "      <th>x1</th>\n",
       "      <th>x2</th>\n",
       "    </tr>\n",
       "  </thead>\n",
       "  <tbody>\n",
       "    <tr>\n",
       "      <th>count</th>\n",
       "      <td>12418</td>\n",
       "      <td>12418.00000</td>\n",
       "      <td>12418.000000</td>\n",
       "      <td>12418.000000</td>\n",
       "    </tr>\n",
       "    <tr>\n",
       "      <th>unique</th>\n",
       "      <td>11902</td>\n",
       "      <td>9432.00000</td>\n",
       "      <td>9467.000000</td>\n",
       "      <td>9397.000000</td>\n",
       "    </tr>\n",
       "    <tr>\n",
       "      <th>top</th>\n",
       "      <td>66773</td>\n",
       "      <td>0.60363</td>\n",
       "      <td>-0.822319</td>\n",
       "      <td>-0.257797</td>\n",
       "    </tr>\n",
       "    <tr>\n",
       "      <th>freq</th>\n",
       "      <td>3</td>\n",
       "      <td>6.00000</td>\n",
       "      <td>7.000000</td>\n",
       "      <td>6.000000</td>\n",
       "    </tr>\n",
       "  </tbody>\n",
       "</table>\n",
       "</div>"
      ],
      "text/plain": [
       "        Timestep           x0            x1            x2\n",
       "count      12418  12418.00000  12418.000000  12418.000000\n",
       "unique     11902   9432.00000   9467.000000   9397.000000\n",
       "top        66773      0.60363     -0.822319     -0.257797\n",
       "freq           3      6.00000      7.000000      6.000000"
      ]
     },
     "execution_count": 21,
     "metadata": {},
     "output_type": "execute_result"
    }
   ],
   "source": [
    "df_incidents[['Timestep'] + feature_names].describe()"
   ]
  },
  {
   "cell_type": "code",
   "execution_count": 22,
   "id": "98386874",
   "metadata": {},
   "outputs": [
    {
     "name": "stderr",
     "output_type": "stream",
     "text": [
      "c:\\Users\\20173892\\AppData\\Local\\Programs\\Python\\venv\\Lib\\site-packages\\seaborn\\_oldcore.py:1498: FutureWarning: is_categorical_dtype is deprecated and will be removed in a future version. Use isinstance(dtype, CategoricalDtype) instead\n",
      "  if pd.api.types.is_categorical_dtype(vector):\n",
      "c:\\Users\\20173892\\AppData\\Local\\Programs\\Python\\venv\\Lib\\site-packages\\seaborn\\_oldcore.py:1498: FutureWarning: is_categorical_dtype is deprecated and will be removed in a future version. Use isinstance(dtype, CategoricalDtype) instead\n",
      "  if pd.api.types.is_categorical_dtype(vector):\n",
      "c:\\Users\\20173892\\AppData\\Local\\Programs\\Python\\venv\\Lib\\site-packages\\seaborn\\_oldcore.py:1498: FutureWarning: is_categorical_dtype is deprecated and will be removed in a future version. Use isinstance(dtype, CategoricalDtype) instead\n",
      "  if pd.api.types.is_categorical_dtype(vector):\n"
     ]
    },
    {
     "data": {
      "image/png": "[encoded data removed]",
      "text/plain": [
       "<Figure size 800x400 with 1 Axes>"
      ]
     },
     "metadata": {},
     "output_type": "display_data"
    }
   ],
   "source": [
    "fig, ax = matplotlib.pyplot.subplots(figsize=FIGSIZE)\n",
    "\n",
    "fg = seaborn.violinplot(data=df_incidents[feature_names], inner='box', color=seaborn.color_palette()[0])\n",
    "\n",
    "fig.savefig('feature-distributions.pdf', dpi=600, bbox_inches='tight')"
   ]
  },
  {
   "cell_type": "code",
   "execution_count": 23,
   "id": "9553ad62",
   "metadata": {},
   "outputs": [
    {
     "name": "stderr",
     "output_type": "stream",
     "text": [
      "c:\\Users\\20173892\\AppData\\Local\\Programs\\Python\\venv\\Lib\\site-packages\\seaborn\\_oldcore.py:1498: FutureWarning: is_categorical_dtype is deprecated and will be removed in a future version. Use isinstance(dtype, CategoricalDtype) instead\n",
      "  if pd.api.types.is_categorical_dtype(vector):\n",
      "c:\\Users\\20173892\\AppData\\Local\\Programs\\Python\\venv\\Lib\\site-packages\\seaborn\\_oldcore.py:1498: FutureWarning: is_categorical_dtype is deprecated and will be removed in a future version. Use isinstance(dtype, CategoricalDtype) instead\n",
      "  if pd.api.types.is_categorical_dtype(vector):\n",
      "c:\\Users\\20173892\\AppData\\Local\\Programs\\Python\\venv\\Lib\\site-packages\\seaborn\\_oldcore.py:1498: FutureWarning: is_categorical_dtype is deprecated and will be removed in a future version. Use isinstance(dtype, CategoricalDtype) instead\n",
      "  if pd.api.types.is_categorical_dtype(vector):\n",
      "c:\\Users\\20173892\\AppData\\Local\\Programs\\Python\\venv\\Lib\\site-packages\\seaborn\\_oldcore.py:1119: FutureWarning: use_inf_as_na option is deprecated and will be removed in a future version. Convert inf values to NaN before operating instead.\n",
      "  with pd.option_context('mode.use_inf_as_na', True):\n"
     ]
    },
    {
     "data": {
      "image/png": "[encoded data removed]",
      "text/plain": [
       "<Figure size 800x400 with 1 Axes>"
      ]
     },
     "metadata": {},
     "output_type": "display_data"
    }
   ],
   "source": [
    "n_actors_shown = 4\n",
    "\n",
    "shown_actors = [f'APT{i}' for i in range(n_actors_shown)]\n",
    "\n",
    "fig, ax = matplotlib.pyplot.subplots(figsize=FIGSIZE)\n",
    "\n",
    "fg = seaborn.kdeplot(\n",
    "    data=df_incidents[df_incidents['Name'].apply(lambda x: x in shown_actors)],\n",
    "    x='Timestep',\n",
    "    hue=\"Name\",\n",
    "    hue_order=shown_actors,\n",
    ")\n",
    "\n",
    "fg.set_ylabel('Activity of threat actor')\n",
    "\n",
    "fig.savefig('threat-actor-activity.pdf', dpi=600, bbox_inches='tight')"
   ]
  },
  {
   "cell_type": "code",
   "execution_count": 24,
   "id": "22895c75",
   "metadata": {},
   "outputs": [
    {
     "name": "stderr",
     "output_type": "stream",
     "text": [
      "c:\\Users\\20173892\\AppData\\Local\\Programs\\Python\\venv\\Lib\\site-packages\\seaborn\\_oldcore.py:1498: FutureWarning: is_categorical_dtype is deprecated and will be removed in a future version. Use isinstance(dtype, CategoricalDtype) instead\n",
      "  if pd.api.types.is_categorical_dtype(vector):\n",
      "c:\\Users\\20173892\\AppData\\Local\\Programs\\Python\\venv\\Lib\\site-packages\\seaborn\\_oldcore.py:1119: FutureWarning: use_inf_as_na option is deprecated and will be removed in a future version. Convert inf values to NaN before operating instead.\n",
      "  with pd.option_context('mode.use_inf_as_na', True):\n"
     ]
    },
    {
     "data": {
      "image/png": "[encoded data removed]",
      "text/plain": [
       "<Figure size 800x400 with 1 Axes>"
      ]
     },
     "metadata": {},
     "output_type": "display_data"
    }
   ],
   "source": [
    "fig, ax = matplotlib.pyplot.subplots(figsize=FIGSIZE)\n",
    "\n",
    "fg = seaborn.histplot(\n",
    "    data=df_incidents['Name'].value_counts(), \n",
    "    kde=True,\n",
    ")\n",
    "\n",
    "fg.set_xlabel('Number of incidents associated with threat actor')\n",
    "fg.set_ylabel('Number of threat actors')\n",
    "\n",
    "fig.savefig('threat-actor-hist.pdf', dpi=600, bbox_inches='tight')"
   ]
  },
  {
   "cell_type": "markdown",
   "id": "0877e81d",
   "metadata": {},
   "source": [
    "# Load/save dataset"
   ]
  },
  {
   "cell_type": "code",
   "execution_count": 25,
   "id": "21f5c04a",
   "metadata": {},
   "outputs": [],
   "source": [
    "df_incidents.to_csv('df_incidents_example.csv')"
   ]
  },
  {
   "cell_type": "code",
   "execution_count": 26,
   "id": "7380748f",
   "metadata": {},
   "outputs": [],
   "source": [
    "df_incidents = pandas.read_csv('df_incidents_example.csv')"
   ]
  },
  {
   "attachments": {},
   "cell_type": "markdown",
   "id": "56d50a90-30c6-4b19-af42-98cedd98b2e8",
   "metadata": {},
   "source": [
    "# Split dataset"
   ]
  },
  {
   "cell_type": "code",
   "execution_count": 27,
   "id": "f97ea3e3-cee1-4fb2-8ee0-c84cae4bc1b0",
   "metadata": {},
   "outputs": [
    {
     "data": {
      "text/plain": [
       "(4977, 7441)"
      ]
     },
     "execution_count": 27,
     "metadata": {},
     "output_type": "execute_result"
    }
   ],
   "source": [
    "df_train = df_incidents[df_incidents['Timestep'] < EXPERIMENT_SIZE * TRAIN_SIZE]\n",
    "df_test = df_incidents[df_incidents['Timestep'] >= EXPERIMENT_SIZE * TRAIN_SIZE]\n",
    "\n",
    "len(df_train), len(df_test)"
   ]
  },
  {
   "cell_type": "code",
   "execution_count": 28,
   "id": "a3514cf4-b411-427f-b3bb-5991caa8a8bd",
   "metadata": {},
   "outputs": [
    {
     "name": "stderr",
     "output_type": "stream",
     "text": [
      "C:\\Users\\20173892\\AppData\\Local\\Temp\\ipykernel_31012\\4255208019.py:1: SettingWithCopyWarning: \n",
      "A value is trying to be set on a copy of a slice from a DataFrame.\n",
      "Try using .loc[row_indexer,col_indexer] = value instead\n",
      "\n",
      "See the caveats in the documentation: https://pandas.pydata.org/pandas-docs/stable/user_guide/indexing.html#returning-a-view-versus-a-copy\n",
      "  df_train['Name'] = df_train['Name'].apply(lambda x: int(x[3:]))\n",
      "C:\\Users\\20173892\\AppData\\Local\\Temp\\ipykernel_31012\\4255208019.py:2: SettingWithCopyWarning: \n",
      "A value is trying to be set on a copy of a slice from a DataFrame.\n",
      "Try using .loc[row_indexer,col_indexer] = value instead\n",
      "\n",
      "See the caveats in the documentation: https://pandas.pydata.org/pandas-docs/stable/user_guide/indexing.html#returning-a-view-versus-a-copy\n",
      "  df_test['Name'] = df_test['Name'].apply(lambda x: int(x[3:]))\n"
     ]
    }
   ],
   "source": [
    "df_train['Name'] = df_train['Name'].apply(lambda x: int(x[3:]))\n",
    "df_test['Name'] = df_test['Name'].apply(lambda x: int(x[3:]))"
   ]
  },
  {
   "attachments": {},
   "cell_type": "markdown",
   "id": "b1ea0dcb-e5b6-4143-89d9-730c7f1df894",
   "metadata": {},
   "source": [
    "## Run experiment"
   ]
  },
  {
   "cell_type": "code",
   "execution_count": 29,
   "id": "9717da16-2f36-495a-bc0b-f86ece0389a7",
   "metadata": {},
   "outputs": [
    {
     "name": "stderr",
     "output_type": "stream",
     "text": [
      "100%|██████████| 3/3 [00:04<00:00,  1.38s/it]\n"
     ]
    }
   ],
   "source": [
    "models = [\n",
    "    copy.deepcopy(MODEL)\n",
    "    for _ in range(FEATURES)\n",
    "]\n",
    "\n",
    "for i in tqdm.tqdm(range(FEATURES)):\n",
    "    models[i].fit(df_train[[f'x{i}']].to_numpy(), df_train['Name'])"
   ]
  },
  {
   "cell_type": "code",
   "execution_count": 30,
   "id": "4732ffda-dff4-4ccc-aea7-7feab4df96d1",
   "metadata": {},
   "outputs": [
    {
     "name": "stderr",
     "output_type": "stream",
     "text": [
      "100%|██████████| 3/3 [00:00<00:00,  5.38it/s]\n"
     ]
    }
   ],
   "source": [
    "preds = []\n",
    "for i in tqdm.tqdm(range(FEATURES)):\n",
    "    preds.append(models[i].predict_proba(df_test[[f'x{i}']].to_numpy()))"
   ]
  },
  {
   "cell_type": "code",
   "execution_count": 31,
   "id": "7ba53b39-6497-4e19-91fe-d68514a2c9b1",
   "metadata": {},
   "outputs": [
    {
     "name": "stdout",
     "output_type": "stream",
     "text": [
      "Using incident 689 as an example.\n",
      "According to the ground truth, this sample should be attributed to APT 2\n",
      "Prediction for feature 0 is given by: \n",
      "[0.01322612 0.46335697 0.52341691]\n",
      "Based on this prediction, the incident would be attributed to APT 2\n",
      "Prediction for feature 1 is given by: \n",
      "[0.02995507 0.82382383 0.14622111]\n",
      "Based on this prediction, the incident would be attributed to APT 1\n",
      "Prediction for feature 2 is given by: \n",
      "[0.48338059 0.02436817 0.49225124]\n",
      "Based on this prediction, the incident would be attributed to APT 2\n",
      "Combining predictions for features 0 and 1 with the logarithmic opinion pool results in: \n",
      "[0.00086381 0.83226883 0.16686736]\n",
      "Based on this prediction, the incident would be attributed to APT 1\n",
      "Combining predictions for features 0 and 2 with the logarithmic opinion pool results in: \n",
      "[0.02321972 0.04100851 0.93577177]\n",
      "Based on this prediction, the incident would be attributed to APT 2\n",
      "Combining predictions for features 1 and 2 with the logarithmic opinion pool results in: \n",
      "[0.13591839 0.18844123 0.67564038]\n",
      "Based on this prediction, the incident would be attributed to APT 2\n",
      "Combining intermediate results from the pairs with the linear opinion pool results in: \n",
      "[0.05333397 0.35390619 0.59275984]\n",
      "Based on this prediction, the incident would be attributed to APT 2\n"
     ]
    }
   ],
   "source": [
    "pool_name = 'Pairing Aggregator'\n",
    "\n",
    "incident_i = random.randint(0, len(df_test.index))\n",
    "print(f'Using incident {incident_i} as an example.')\n",
    "\n",
    "if not isinstance(df_test.iloc[incident_i]['Name'], str):\n",
    "    apt_i = df_test.iloc[incident_i]['Name']\n",
    "else:\n",
    "    apt_i = int(df_test.iloc[incident_i]['Name'][3:])\n",
    "\n",
    "print(f'According to the ground truth, this sample should be attributed to APT {apt_i}')\n",
    "\n",
    "for j in range(FEATURES):\n",
    "    print(f'Prediction for feature {j} is given by: ')\n",
    "    print(preds[j][i])\n",
    "    print(f'Based on this prediction, the incident would be attributed to APT {numpy.argmax(preds[j][i])}')\n",
    "\n",
    "X = numpy.array([preds[j][i] for j in range(FEATURES)])\n",
    "Y = []\n",
    "\n",
    "for i in range(X.shape[0]):\n",
    "    for j in range(i+1, X.shape[0]):\n",
    "        c = logarithmic_opinion_pool(numpy.array([X[i, :], X[j, :]]))\n",
    "        Y.append(c)\n",
    "        \n",
    "        print(f'Combining predictions for features {i} and {j} with the logarithmic opinion pool results in: ')\n",
    "        print(c)\n",
    "        print(f'Based on this prediction, the incident would be attributed to APT {numpy.argmax(c)}')\n",
    "\n",
    "Y = numpy.array(Y)\n",
    "\n",
    "c = linear_opinion_pool(Y)\n",
    "        \n",
    "print(f'Combining intermediate results from the pairs with the linear opinion pool results in: ')\n",
    "print(c)\n",
    "print(f'Based on this prediction, the incident would be attributed to APT {numpy.argmax(c)}')"
   ]
  }
 ],
 "metadata": {
  "kernelspec": {
   "display_name": "venv",
   "language": "python",
   "name": "venv"
  },
  "language_info": {
   "codemirror_mode": {
    "name": "ipython",
    "version": 3
   },
   "file_extension": ".py",
   "mimetype": "text/x-python",
   "name": "python",
   "nbconvert_exporter": "python",
   "pygments_lexer": "ipython3",
   "version": "3.11.4"
  }
 },
 "nbformat": 4,
 "nbformat_minor": 5
}
